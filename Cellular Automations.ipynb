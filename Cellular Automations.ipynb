{
 "cells": [
  {
   "cell_type": "markdown",
   "metadata": {},
   "source": [
    "## Правило на Волфрам 108"
   ]
  },
  {
   "cell_type": "code",
   "execution_count": 1,
   "metadata": {},
   "outputs": [],
   "source": [
    "RULE_108 = {'000': '0', '001': '0', '010': '1', '011': '1', '100': '0', '101': '1', '110': '1', '111': '0'}"
   ]
  },
  {
   "cell_type": "code",
   "execution_count": 2,
   "metadata": {},
   "outputs": [],
   "source": [
    "def determine_next_generation(current_generation, rule=RULE_108):\n",
    "    new_generation = \"\"\n",
    "    for i in range(len(current_generation)):\n",
    "        if i < 1 or i == (len(current_generation) - 1): # we just append the first and the last\n",
    "            new_generation += current_generation[i]\n",
    "        else:\n",
    "            new = current_generation[i - 1] + current_generation[i] + current_generation[i + 1]\n",
    "            new_generation += RULE_108[new]\n",
    "    return new_generation"
   ]
  },
  {
   "cell_type": "code",
   "execution_count": 3,
   "metadata": {},
   "outputs": [
    {
     "data": {
      "text/plain": [
       "'0010011001110010010001010000'"
      ]
     },
     "execution_count": 3,
     "metadata": {},
     "output_type": "execute_result"
    }
   ],
   "source": [
    "determine_next_generation('0010011001010011110001110000')"
   ]
  },
  {
   "cell_type": "code",
   "execution_count": 6,
   "metadata": {},
   "outputs": [],
   "source": [
    "def automation(initial_state, iterations=10):\n",
    "    result = list()\n",
    "    previous_state = initial_state\n",
    "    for _ in initial_state:\n",
    "        new_state = determine_next_generation(previous_state)\n",
    "        result.append(new_state)\n",
    "        previous_state = new_state\n",
    "    return result"
   ]
  },
  {
   "cell_type": "code",
   "execution_count": 7,
   "metadata": {},
   "outputs": [
    {
     "data": {
      "text/plain": [
       "['0010011001110010010001010000',\n",
       " '0010011001010010010001110000',\n",
       " '0010011001110010010001010000',\n",
       " '0010011001010010010001110000',\n",
       " '0010011001110010010001010000',\n",
       " '0010011001010010010001110000',\n",
       " '0010011001110010010001010000',\n",
       " '0010011001010010010001110000',\n",
       " '0010011001110010010001010000',\n",
       " '0010011001010010010001110000',\n",
       " '0010011001110010010001010000',\n",
       " '0010011001010010010001110000',\n",
       " '0010011001110010010001010000',\n",
       " '0010011001010010010001110000',\n",
       " '0010011001110010010001010000',\n",
       " '0010011001010010010001110000',\n",
       " '0010011001110010010001010000',\n",
       " '0010011001010010010001110000',\n",
       " '0010011001110010010001010000',\n",
       " '0010011001010010010001110000',\n",
       " '0010011001110010010001010000',\n",
       " '0010011001010010010001110000',\n",
       " '0010011001110010010001010000',\n",
       " '0010011001010010010001110000',\n",
       " '0010011001110010010001010000',\n",
       " '0010011001010010010001110000',\n",
       " '0010011001110010010001010000',\n",
       " '0010011001010010010001110000']"
      ]
     },
     "execution_count": 7,
     "metadata": {},
     "output_type": "execute_result"
    }
   ],
   "source": [
    "automation('0010011001010011110001110000')"
   ]
  },
  {
   "cell_type": "code",
   "execution_count": 60,
   "metadata": {},
   "outputs": [],
   "source": [
    "BLUE = '\\033[94m'\n",
    "RED = '\\033[91m'\n",
    "GREEN = '\\033[92m'\n",
    "\n",
    "STATE_REPRESENTATION = {'0': BLUE + '#', '1': RED + '#'}\n",
    "\n",
    "def simulate(result):\n",
    "    for generation in result:\n",
    "        generation_representation = \"\"\n",
    "        for state in generation:\n",
    "            generation_representation += STATE_REPRESENTATION[state] + ' '\n",
    "        print(generation_representation)"
   ]
  },
  {
   "cell_type": "code",
   "execution_count": 21,
   "metadata": {},
   "outputs": [
    {
     "name": "stdout",
     "output_type": "stream",
     "text": [
      "\u001b[94m# \u001b[94m# \u001b[91m# \u001b[94m# \u001b[94m# \u001b[91m# \u001b[91m# \u001b[94m# \u001b[94m# \u001b[91m# \u001b[91m# \u001b[91m# \u001b[94m# \u001b[94m# \u001b[94m# \u001b[94m# \u001b[94m# \u001b[94m# \u001b[94m# \u001b[94m# \u001b[94m# \u001b[91m# \u001b[94m# \u001b[91m# \u001b[94m# \u001b[94m# \u001b[94m# \u001b[94m# \n",
      "\u001b[94m# \u001b[94m# \u001b[91m# \u001b[94m# \u001b[94m# \u001b[91m# \u001b[91m# \u001b[94m# \u001b[94m# \u001b[91m# \u001b[94m# \u001b[91m# \u001b[94m# \u001b[94m# \u001b[94m# \u001b[94m# \u001b[94m# \u001b[94m# \u001b[94m# \u001b[94m# \u001b[94m# \u001b[91m# \u001b[91m# \u001b[91m# \u001b[94m# \u001b[94m# \u001b[94m# \u001b[94m# \n",
      "\u001b[94m# \u001b[94m# \u001b[91m# \u001b[94m# \u001b[94m# \u001b[91m# \u001b[91m# \u001b[94m# \u001b[94m# \u001b[91m# \u001b[91m# \u001b[91m# \u001b[94m# \u001b[94m# \u001b[94m# \u001b[94m# \u001b[94m# \u001b[94m# \u001b[94m# \u001b[94m# \u001b[94m# \u001b[91m# \u001b[94m# \u001b[91m# \u001b[94m# \u001b[94m# \u001b[94m# \u001b[94m# \n",
      "\u001b[94m# \u001b[94m# \u001b[91m# \u001b[94m# \u001b[94m# \u001b[91m# \u001b[91m# \u001b[94m# \u001b[94m# \u001b[91m# \u001b[94m# \u001b[91m# \u001b[94m# \u001b[94m# \u001b[94m# \u001b[94m# \u001b[94m# \u001b[94m# \u001b[94m# \u001b[94m# \u001b[94m# \u001b[91m# \u001b[91m# \u001b[91m# \u001b[94m# \u001b[94m# \u001b[94m# \u001b[94m# \n",
      "\u001b[94m# \u001b[94m# \u001b[91m# \u001b[94m# \u001b[94m# \u001b[91m# \u001b[91m# \u001b[94m# \u001b[94m# \u001b[91m# \u001b[91m# \u001b[91m# \u001b[94m# \u001b[94m# \u001b[94m# \u001b[94m# \u001b[94m# \u001b[94m# \u001b[94m# \u001b[94m# \u001b[94m# \u001b[91m# \u001b[94m# \u001b[91m# \u001b[94m# \u001b[94m# \u001b[94m# \u001b[94m# \n",
      "\u001b[94m# \u001b[94m# \u001b[91m# \u001b[94m# \u001b[94m# \u001b[91m# \u001b[91m# \u001b[94m# \u001b[94m# \u001b[91m# \u001b[94m# \u001b[91m# \u001b[94m# \u001b[94m# \u001b[94m# \u001b[94m# \u001b[94m# \u001b[94m# \u001b[94m# \u001b[94m# \u001b[94m# \u001b[91m# \u001b[91m# \u001b[91m# \u001b[94m# \u001b[94m# \u001b[94m# \u001b[94m# \n",
      "\u001b[94m# \u001b[94m# \u001b[91m# \u001b[94m# \u001b[94m# \u001b[91m# \u001b[91m# \u001b[94m# \u001b[94m# \u001b[91m# \u001b[91m# \u001b[91m# \u001b[94m# \u001b[94m# \u001b[94m# \u001b[94m# \u001b[94m# \u001b[94m# \u001b[94m# \u001b[94m# \u001b[94m# \u001b[91m# \u001b[94m# \u001b[91m# \u001b[94m# \u001b[94m# \u001b[94m# \u001b[94m# \n",
      "\u001b[94m# \u001b[94m# \u001b[91m# \u001b[94m# \u001b[94m# \u001b[91m# \u001b[91m# \u001b[94m# \u001b[94m# \u001b[91m# \u001b[94m# \u001b[91m# \u001b[94m# \u001b[94m# \u001b[94m# \u001b[94m# \u001b[94m# \u001b[94m# \u001b[94m# \u001b[94m# \u001b[94m# \u001b[91m# \u001b[91m# \u001b[91m# \u001b[94m# \u001b[94m# \u001b[94m# \u001b[94m# \n",
      "\u001b[94m# \u001b[94m# \u001b[91m# \u001b[94m# \u001b[94m# \u001b[91m# \u001b[91m# \u001b[94m# \u001b[94m# \u001b[91m# \u001b[91m# \u001b[91m# \u001b[94m# \u001b[94m# \u001b[94m# \u001b[94m# \u001b[94m# \u001b[94m# \u001b[94m# \u001b[94m# \u001b[94m# \u001b[91m# \u001b[94m# \u001b[91m# \u001b[94m# \u001b[94m# \u001b[94m# \u001b[94m# \n",
      "\u001b[94m# \u001b[94m# \u001b[91m# \u001b[94m# \u001b[94m# \u001b[91m# \u001b[91m# \u001b[94m# \u001b[94m# \u001b[91m# \u001b[94m# \u001b[91m# \u001b[94m# \u001b[94m# \u001b[94m# \u001b[94m# \u001b[94m# \u001b[94m# \u001b[94m# \u001b[94m# \u001b[94m# \u001b[91m# \u001b[91m# \u001b[91m# \u001b[94m# \u001b[94m# \u001b[94m# \u001b[94m# \n",
      "\u001b[94m# \u001b[94m# \u001b[91m# \u001b[94m# \u001b[94m# \u001b[91m# \u001b[91m# \u001b[94m# \u001b[94m# \u001b[91m# \u001b[91m# \u001b[91m# \u001b[94m# \u001b[94m# \u001b[94m# \u001b[94m# \u001b[94m# \u001b[94m# \u001b[94m# \u001b[94m# \u001b[94m# \u001b[91m# \u001b[94m# \u001b[91m# \u001b[94m# \u001b[94m# \u001b[94m# \u001b[94m# \n",
      "\u001b[94m# \u001b[94m# \u001b[91m# \u001b[94m# \u001b[94m# \u001b[91m# \u001b[91m# \u001b[94m# \u001b[94m# \u001b[91m# \u001b[94m# \u001b[91m# \u001b[94m# \u001b[94m# \u001b[94m# \u001b[94m# \u001b[94m# \u001b[94m# \u001b[94m# \u001b[94m# \u001b[94m# \u001b[91m# \u001b[91m# \u001b[91m# \u001b[94m# \u001b[94m# \u001b[94m# \u001b[94m# \n",
      "\u001b[94m# \u001b[94m# \u001b[91m# \u001b[94m# \u001b[94m# \u001b[91m# \u001b[91m# \u001b[94m# \u001b[94m# \u001b[91m# \u001b[91m# \u001b[91m# \u001b[94m# \u001b[94m# \u001b[94m# \u001b[94m# \u001b[94m# \u001b[94m# \u001b[94m# \u001b[94m# \u001b[94m# \u001b[91m# \u001b[94m# \u001b[91m# \u001b[94m# \u001b[94m# \u001b[94m# \u001b[94m# \n",
      "\u001b[94m# \u001b[94m# \u001b[91m# \u001b[94m# \u001b[94m# \u001b[91m# \u001b[91m# \u001b[94m# \u001b[94m# \u001b[91m# \u001b[94m# \u001b[91m# \u001b[94m# \u001b[94m# \u001b[94m# \u001b[94m# \u001b[94m# \u001b[94m# \u001b[94m# \u001b[94m# \u001b[94m# \u001b[91m# \u001b[91m# \u001b[91m# \u001b[94m# \u001b[94m# \u001b[94m# \u001b[94m# \n",
      "\u001b[94m# \u001b[94m# \u001b[91m# \u001b[94m# \u001b[94m# \u001b[91m# \u001b[91m# \u001b[94m# \u001b[94m# \u001b[91m# \u001b[91m# \u001b[91m# \u001b[94m# \u001b[94m# \u001b[94m# \u001b[94m# \u001b[94m# \u001b[94m# \u001b[94m# \u001b[94m# \u001b[94m# \u001b[91m# \u001b[94m# \u001b[91m# \u001b[94m# \u001b[94m# \u001b[94m# \u001b[94m# \n",
      "\u001b[94m# \u001b[94m# \u001b[91m# \u001b[94m# \u001b[94m# \u001b[91m# \u001b[91m# \u001b[94m# \u001b[94m# \u001b[91m# \u001b[94m# \u001b[91m# \u001b[94m# \u001b[94m# \u001b[94m# \u001b[94m# \u001b[94m# \u001b[94m# \u001b[94m# \u001b[94m# \u001b[94m# \u001b[91m# \u001b[91m# \u001b[91m# \u001b[94m# \u001b[94m# \u001b[94m# \u001b[94m# \n",
      "\u001b[94m# \u001b[94m# \u001b[91m# \u001b[94m# \u001b[94m# \u001b[91m# \u001b[91m# \u001b[94m# \u001b[94m# \u001b[91m# \u001b[91m# \u001b[91m# \u001b[94m# \u001b[94m# \u001b[94m# \u001b[94m# \u001b[94m# \u001b[94m# \u001b[94m# \u001b[94m# \u001b[94m# \u001b[91m# \u001b[94m# \u001b[91m# \u001b[94m# \u001b[94m# \u001b[94m# \u001b[94m# \n",
      "\u001b[94m# \u001b[94m# \u001b[91m# \u001b[94m# \u001b[94m# \u001b[91m# \u001b[91m# \u001b[94m# \u001b[94m# \u001b[91m# \u001b[94m# \u001b[91m# \u001b[94m# \u001b[94m# \u001b[94m# \u001b[94m# \u001b[94m# \u001b[94m# \u001b[94m# \u001b[94m# \u001b[94m# \u001b[91m# \u001b[91m# \u001b[91m# \u001b[94m# \u001b[94m# \u001b[94m# \u001b[94m# \n",
      "\u001b[94m# \u001b[94m# \u001b[91m# \u001b[94m# \u001b[94m# \u001b[91m# \u001b[91m# \u001b[94m# \u001b[94m# \u001b[91m# \u001b[91m# \u001b[91m# \u001b[94m# \u001b[94m# \u001b[94m# \u001b[94m# \u001b[94m# \u001b[94m# \u001b[94m# \u001b[94m# \u001b[94m# \u001b[91m# \u001b[94m# \u001b[91m# \u001b[94m# \u001b[94m# \u001b[94m# \u001b[94m# \n",
      "\u001b[94m# \u001b[94m# \u001b[91m# \u001b[94m# \u001b[94m# \u001b[91m# \u001b[91m# \u001b[94m# \u001b[94m# \u001b[91m# \u001b[94m# \u001b[91m# \u001b[94m# \u001b[94m# \u001b[94m# \u001b[94m# \u001b[94m# \u001b[94m# \u001b[94m# \u001b[94m# \u001b[94m# \u001b[91m# \u001b[91m# \u001b[91m# \u001b[94m# \u001b[94m# \u001b[94m# \u001b[94m# \n",
      "\u001b[94m# \u001b[94m# \u001b[91m# \u001b[94m# \u001b[94m# \u001b[91m# \u001b[91m# \u001b[94m# \u001b[94m# \u001b[91m# \u001b[91m# \u001b[91m# \u001b[94m# \u001b[94m# \u001b[94m# \u001b[94m# \u001b[94m# \u001b[94m# \u001b[94m# \u001b[94m# \u001b[94m# \u001b[91m# \u001b[94m# \u001b[91m# \u001b[94m# \u001b[94m# \u001b[94m# \u001b[94m# \n",
      "\u001b[94m# \u001b[94m# \u001b[91m# \u001b[94m# \u001b[94m# \u001b[91m# \u001b[91m# \u001b[94m# \u001b[94m# \u001b[91m# \u001b[94m# \u001b[91m# \u001b[94m# \u001b[94m# \u001b[94m# \u001b[94m# \u001b[94m# \u001b[94m# \u001b[94m# \u001b[94m# \u001b[94m# \u001b[91m# \u001b[91m# \u001b[91m# \u001b[94m# \u001b[94m# \u001b[94m# \u001b[94m# \n",
      "\u001b[94m# \u001b[94m# \u001b[91m# \u001b[94m# \u001b[94m# \u001b[91m# \u001b[91m# \u001b[94m# \u001b[94m# \u001b[91m# \u001b[91m# \u001b[91m# \u001b[94m# \u001b[94m# \u001b[94m# \u001b[94m# \u001b[94m# \u001b[94m# \u001b[94m# \u001b[94m# \u001b[94m# \u001b[91m# \u001b[94m# \u001b[91m# \u001b[94m# \u001b[94m# \u001b[94m# \u001b[94m# \n",
      "\u001b[94m# \u001b[94m# \u001b[91m# \u001b[94m# \u001b[94m# \u001b[91m# \u001b[91m# \u001b[94m# \u001b[94m# \u001b[91m# \u001b[94m# \u001b[91m# \u001b[94m# \u001b[94m# \u001b[94m# \u001b[94m# \u001b[94m# \u001b[94m# \u001b[94m# \u001b[94m# \u001b[94m# \u001b[91m# \u001b[91m# \u001b[91m# \u001b[94m# \u001b[94m# \u001b[94m# \u001b[94m# \n",
      "\u001b[94m# \u001b[94m# \u001b[91m# \u001b[94m# \u001b[94m# \u001b[91m# \u001b[91m# \u001b[94m# \u001b[94m# \u001b[91m# \u001b[91m# \u001b[91m# \u001b[94m# \u001b[94m# \u001b[94m# \u001b[94m# \u001b[94m# \u001b[94m# \u001b[94m# \u001b[94m# \u001b[94m# \u001b[91m# \u001b[94m# \u001b[91m# \u001b[94m# \u001b[94m# \u001b[94m# \u001b[94m# \n",
      "\u001b[94m# \u001b[94m# \u001b[91m# \u001b[94m# \u001b[94m# \u001b[91m# \u001b[91m# \u001b[94m# \u001b[94m# \u001b[91m# \u001b[94m# \u001b[91m# \u001b[94m# \u001b[94m# \u001b[94m# \u001b[94m# \u001b[94m# \u001b[94m# \u001b[94m# \u001b[94m# \u001b[94m# \u001b[91m# \u001b[91m# \u001b[91m# \u001b[94m# \u001b[94m# \u001b[94m# \u001b[94m# \n",
      "\u001b[94m# \u001b[94m# \u001b[91m# \u001b[94m# \u001b[94m# \u001b[91m# \u001b[91m# \u001b[94m# \u001b[94m# \u001b[91m# \u001b[91m# \u001b[91m# \u001b[94m# \u001b[94m# \u001b[94m# \u001b[94m# \u001b[94m# \u001b[94m# \u001b[94m# \u001b[94m# \u001b[94m# \u001b[91m# \u001b[94m# \u001b[91m# \u001b[94m# \u001b[94m# \u001b[94m# \u001b[94m# \n",
      "\u001b[94m# \u001b[94m# \u001b[91m# \u001b[94m# \u001b[94m# \u001b[91m# \u001b[91m# \u001b[94m# \u001b[94m# \u001b[91m# \u001b[94m# \u001b[91m# \u001b[94m# \u001b[94m# \u001b[94m# \u001b[94m# \u001b[94m# \u001b[94m# \u001b[94m# \u001b[94m# \u001b[94m# \u001b[91m# \u001b[91m# \u001b[91m# \u001b[94m# \u001b[94m# \u001b[94m# \u001b[94m# \n"
     ]
    }
   ],
   "source": [
    "simulate(automation('0010011001010011110001110000'))"
   ]
  },
  {
   "cell_type": "code",
   "execution_count": 22,
   "metadata": {},
   "outputs": [
    {
     "name": "stdout",
     "output_type": "stream",
     "text": [
      "\u001b[94m# \u001b[91m# \u001b[91m# \u001b[91m# \u001b[91m# \u001b[91m# \u001b[91m# \u001b[91m# \u001b[91m# \u001b[91m# \u001b[91m# \u001b[91m# \u001b[91m# \u001b[91m# \u001b[91m# \u001b[91m# \u001b[91m# \u001b[91m# \u001b[91m# \u001b[91m# \u001b[91m# \u001b[91m# \u001b[91m# \u001b[91m# \u001b[91m# \u001b[91m# \n",
      "\u001b[94m# \u001b[91m# \u001b[94m# \u001b[94m# \u001b[94m# \u001b[94m# \u001b[94m# \u001b[94m# \u001b[94m# \u001b[94m# \u001b[94m# \u001b[94m# \u001b[94m# \u001b[94m# \u001b[94m# \u001b[94m# \u001b[94m# \u001b[94m# \u001b[94m# \u001b[94m# \u001b[94m# \u001b[94m# \u001b[94m# \u001b[94m# \u001b[94m# \u001b[91m# \n",
      "\u001b[94m# \u001b[91m# \u001b[94m# \u001b[94m# \u001b[94m# \u001b[94m# \u001b[94m# \u001b[94m# \u001b[94m# \u001b[94m# \u001b[94m# \u001b[94m# \u001b[94m# \u001b[94m# \u001b[94m# \u001b[94m# \u001b[94m# \u001b[94m# \u001b[94m# \u001b[94m# \u001b[94m# \u001b[94m# \u001b[94m# \u001b[94m# \u001b[94m# \u001b[91m# \n",
      "\u001b[94m# \u001b[91m# \u001b[94m# \u001b[94m# \u001b[94m# \u001b[94m# \u001b[94m# \u001b[94m# \u001b[94m# \u001b[94m# \u001b[94m# \u001b[94m# \u001b[94m# \u001b[94m# \u001b[94m# \u001b[94m# \u001b[94m# \u001b[94m# \u001b[94m# \u001b[94m# \u001b[94m# \u001b[94m# \u001b[94m# \u001b[94m# \u001b[94m# \u001b[91m# \n",
      "\u001b[94m# \u001b[91m# \u001b[94m# \u001b[94m# \u001b[94m# \u001b[94m# \u001b[94m# \u001b[94m# \u001b[94m# \u001b[94m# \u001b[94m# \u001b[94m# \u001b[94m# \u001b[94m# \u001b[94m# \u001b[94m# \u001b[94m# \u001b[94m# \u001b[94m# \u001b[94m# \u001b[94m# \u001b[94m# \u001b[94m# \u001b[94m# \u001b[94m# \u001b[91m# \n",
      "\u001b[94m# \u001b[91m# \u001b[94m# \u001b[94m# \u001b[94m# \u001b[94m# \u001b[94m# \u001b[94m# \u001b[94m# \u001b[94m# \u001b[94m# \u001b[94m# \u001b[94m# \u001b[94m# \u001b[94m# \u001b[94m# \u001b[94m# \u001b[94m# \u001b[94m# \u001b[94m# \u001b[94m# \u001b[94m# \u001b[94m# \u001b[94m# \u001b[94m# \u001b[91m# \n",
      "\u001b[94m# \u001b[91m# \u001b[94m# \u001b[94m# \u001b[94m# \u001b[94m# \u001b[94m# \u001b[94m# \u001b[94m# \u001b[94m# \u001b[94m# \u001b[94m# \u001b[94m# \u001b[94m# \u001b[94m# \u001b[94m# \u001b[94m# \u001b[94m# \u001b[94m# \u001b[94m# \u001b[94m# \u001b[94m# \u001b[94m# \u001b[94m# \u001b[94m# \u001b[91m# \n",
      "\u001b[94m# \u001b[91m# \u001b[94m# \u001b[94m# \u001b[94m# \u001b[94m# \u001b[94m# \u001b[94m# \u001b[94m# \u001b[94m# \u001b[94m# \u001b[94m# \u001b[94m# \u001b[94m# \u001b[94m# \u001b[94m# \u001b[94m# \u001b[94m# \u001b[94m# \u001b[94m# \u001b[94m# \u001b[94m# \u001b[94m# \u001b[94m# \u001b[94m# \u001b[91m# \n",
      "\u001b[94m# \u001b[91m# \u001b[94m# \u001b[94m# \u001b[94m# \u001b[94m# \u001b[94m# \u001b[94m# \u001b[94m# \u001b[94m# \u001b[94m# \u001b[94m# \u001b[94m# \u001b[94m# \u001b[94m# \u001b[94m# \u001b[94m# \u001b[94m# \u001b[94m# \u001b[94m# \u001b[94m# \u001b[94m# \u001b[94m# \u001b[94m# \u001b[94m# \u001b[91m# \n",
      "\u001b[94m# \u001b[91m# \u001b[94m# \u001b[94m# \u001b[94m# \u001b[94m# \u001b[94m# \u001b[94m# \u001b[94m# \u001b[94m# \u001b[94m# \u001b[94m# \u001b[94m# \u001b[94m# \u001b[94m# \u001b[94m# \u001b[94m# \u001b[94m# \u001b[94m# \u001b[94m# \u001b[94m# \u001b[94m# \u001b[94m# \u001b[94m# \u001b[94m# \u001b[91m# \n",
      "\u001b[94m# \u001b[91m# \u001b[94m# \u001b[94m# \u001b[94m# \u001b[94m# \u001b[94m# \u001b[94m# \u001b[94m# \u001b[94m# \u001b[94m# \u001b[94m# \u001b[94m# \u001b[94m# \u001b[94m# \u001b[94m# \u001b[94m# \u001b[94m# \u001b[94m# \u001b[94m# \u001b[94m# \u001b[94m# \u001b[94m# \u001b[94m# \u001b[94m# \u001b[91m# \n",
      "\u001b[94m# \u001b[91m# \u001b[94m# \u001b[94m# \u001b[94m# \u001b[94m# \u001b[94m# \u001b[94m# \u001b[94m# \u001b[94m# \u001b[94m# \u001b[94m# \u001b[94m# \u001b[94m# \u001b[94m# \u001b[94m# \u001b[94m# \u001b[94m# \u001b[94m# \u001b[94m# \u001b[94m# \u001b[94m# \u001b[94m# \u001b[94m# \u001b[94m# \u001b[91m# \n",
      "\u001b[94m# \u001b[91m# \u001b[94m# \u001b[94m# \u001b[94m# \u001b[94m# \u001b[94m# \u001b[94m# \u001b[94m# \u001b[94m# \u001b[94m# \u001b[94m# \u001b[94m# \u001b[94m# \u001b[94m# \u001b[94m# \u001b[94m# \u001b[94m# \u001b[94m# \u001b[94m# \u001b[94m# \u001b[94m# \u001b[94m# \u001b[94m# \u001b[94m# \u001b[91m# \n",
      "\u001b[94m# \u001b[91m# \u001b[94m# \u001b[94m# \u001b[94m# \u001b[94m# \u001b[94m# \u001b[94m# \u001b[94m# \u001b[94m# \u001b[94m# \u001b[94m# \u001b[94m# \u001b[94m# \u001b[94m# \u001b[94m# \u001b[94m# \u001b[94m# \u001b[94m# \u001b[94m# \u001b[94m# \u001b[94m# \u001b[94m# \u001b[94m# \u001b[94m# \u001b[91m# \n",
      "\u001b[94m# \u001b[91m# \u001b[94m# \u001b[94m# \u001b[94m# \u001b[94m# \u001b[94m# \u001b[94m# \u001b[94m# \u001b[94m# \u001b[94m# \u001b[94m# \u001b[94m# \u001b[94m# \u001b[94m# \u001b[94m# \u001b[94m# \u001b[94m# \u001b[94m# \u001b[94m# \u001b[94m# \u001b[94m# \u001b[94m# \u001b[94m# \u001b[94m# \u001b[91m# \n",
      "\u001b[94m# \u001b[91m# \u001b[94m# \u001b[94m# \u001b[94m# \u001b[94m# \u001b[94m# \u001b[94m# \u001b[94m# \u001b[94m# \u001b[94m# \u001b[94m# \u001b[94m# \u001b[94m# \u001b[94m# \u001b[94m# \u001b[94m# \u001b[94m# \u001b[94m# \u001b[94m# \u001b[94m# \u001b[94m# \u001b[94m# \u001b[94m# \u001b[94m# \u001b[91m# \n",
      "\u001b[94m# \u001b[91m# \u001b[94m# \u001b[94m# \u001b[94m# \u001b[94m# \u001b[94m# \u001b[94m# \u001b[94m# \u001b[94m# \u001b[94m# \u001b[94m# \u001b[94m# \u001b[94m# \u001b[94m# \u001b[94m# \u001b[94m# \u001b[94m# \u001b[94m# \u001b[94m# \u001b[94m# \u001b[94m# \u001b[94m# \u001b[94m# \u001b[94m# \u001b[91m# \n",
      "\u001b[94m# \u001b[91m# \u001b[94m# \u001b[94m# \u001b[94m# \u001b[94m# \u001b[94m# \u001b[94m# \u001b[94m# \u001b[94m# \u001b[94m# \u001b[94m# \u001b[94m# \u001b[94m# \u001b[94m# \u001b[94m# \u001b[94m# \u001b[94m# \u001b[94m# \u001b[94m# \u001b[94m# \u001b[94m# \u001b[94m# \u001b[94m# \u001b[94m# \u001b[91m# \n",
      "\u001b[94m# \u001b[91m# \u001b[94m# \u001b[94m# \u001b[94m# \u001b[94m# \u001b[94m# \u001b[94m# \u001b[94m# \u001b[94m# \u001b[94m# \u001b[94m# \u001b[94m# \u001b[94m# \u001b[94m# \u001b[94m# \u001b[94m# \u001b[94m# \u001b[94m# \u001b[94m# \u001b[94m# \u001b[94m# \u001b[94m# \u001b[94m# \u001b[94m# \u001b[91m# \n",
      "\u001b[94m# \u001b[91m# \u001b[94m# \u001b[94m# \u001b[94m# \u001b[94m# \u001b[94m# \u001b[94m# \u001b[94m# \u001b[94m# \u001b[94m# \u001b[94m# \u001b[94m# \u001b[94m# \u001b[94m# \u001b[94m# \u001b[94m# \u001b[94m# \u001b[94m# \u001b[94m# \u001b[94m# \u001b[94m# \u001b[94m# \u001b[94m# \u001b[94m# \u001b[91m# \n",
      "\u001b[94m# \u001b[91m# \u001b[94m# \u001b[94m# \u001b[94m# \u001b[94m# \u001b[94m# \u001b[94m# \u001b[94m# \u001b[94m# \u001b[94m# \u001b[94m# \u001b[94m# \u001b[94m# \u001b[94m# \u001b[94m# \u001b[94m# \u001b[94m# \u001b[94m# \u001b[94m# \u001b[94m# \u001b[94m# \u001b[94m# \u001b[94m# \u001b[94m# \u001b[91m# \n",
      "\u001b[94m# \u001b[91m# \u001b[94m# \u001b[94m# \u001b[94m# \u001b[94m# \u001b[94m# \u001b[94m# \u001b[94m# \u001b[94m# \u001b[94m# \u001b[94m# \u001b[94m# \u001b[94m# \u001b[94m# \u001b[94m# \u001b[94m# \u001b[94m# \u001b[94m# \u001b[94m# \u001b[94m# \u001b[94m# \u001b[94m# \u001b[94m# \u001b[94m# \u001b[91m# \n",
      "\u001b[94m# \u001b[91m# \u001b[94m# \u001b[94m# \u001b[94m# \u001b[94m# \u001b[94m# \u001b[94m# \u001b[94m# \u001b[94m# \u001b[94m# \u001b[94m# \u001b[94m# \u001b[94m# \u001b[94m# \u001b[94m# \u001b[94m# \u001b[94m# \u001b[94m# \u001b[94m# \u001b[94m# \u001b[94m# \u001b[94m# \u001b[94m# \u001b[94m# \u001b[91m# \n",
      "\u001b[94m# \u001b[91m# \u001b[94m# \u001b[94m# \u001b[94m# \u001b[94m# \u001b[94m# \u001b[94m# \u001b[94m# \u001b[94m# \u001b[94m# \u001b[94m# \u001b[94m# \u001b[94m# \u001b[94m# \u001b[94m# \u001b[94m# \u001b[94m# \u001b[94m# \u001b[94m# \u001b[94m# \u001b[94m# \u001b[94m# \u001b[94m# \u001b[94m# \u001b[91m# \n",
      "\u001b[94m# \u001b[91m# \u001b[94m# \u001b[94m# \u001b[94m# \u001b[94m# \u001b[94m# \u001b[94m# \u001b[94m# \u001b[94m# \u001b[94m# \u001b[94m# \u001b[94m# \u001b[94m# \u001b[94m# \u001b[94m# \u001b[94m# \u001b[94m# \u001b[94m# \u001b[94m# \u001b[94m# \u001b[94m# \u001b[94m# \u001b[94m# \u001b[94m# \u001b[91m# \n",
      "\u001b[94m# \u001b[91m# \u001b[94m# \u001b[94m# \u001b[94m# \u001b[94m# \u001b[94m# \u001b[94m# \u001b[94m# \u001b[94m# \u001b[94m# \u001b[94m# \u001b[94m# \u001b[94m# \u001b[94m# \u001b[94m# \u001b[94m# \u001b[94m# \u001b[94m# \u001b[94m# \u001b[94m# \u001b[94m# \u001b[94m# \u001b[94m# \u001b[94m# \u001b[91m# \n"
     ]
    }
   ],
   "source": [
    "simulate(automation('01010101010101010101010101'))"
   ]
  },
  {
   "cell_type": "code",
   "execution_count": 23,
   "metadata": {},
   "outputs": [
    {
     "name": "stdout",
     "output_type": "stream",
     "text": [
      "\u001b[94m# \u001b[91m# \u001b[94m# \u001b[94m# \u001b[94m# \u001b[94m# \u001b[94m# \u001b[94m# \u001b[94m# \u001b[94m# \u001b[94m# \u001b[94m# \u001b[94m# \u001b[94m# \u001b[94m# \u001b[94m# \u001b[94m# \u001b[94m# \u001b[94m# \u001b[94m# \u001b[94m# \u001b[94m# \u001b[94m# \u001b[94m# \u001b[91m# \u001b[94m# \n",
      "\u001b[94m# \u001b[91m# \u001b[94m# \u001b[94m# \u001b[94m# \u001b[94m# \u001b[94m# \u001b[94m# \u001b[94m# \u001b[94m# \u001b[94m# \u001b[94m# \u001b[94m# \u001b[94m# \u001b[94m# \u001b[94m# \u001b[94m# \u001b[94m# \u001b[94m# \u001b[94m# \u001b[94m# \u001b[94m# \u001b[94m# \u001b[94m# \u001b[91m# \u001b[94m# \n",
      "\u001b[94m# \u001b[91m# \u001b[94m# \u001b[94m# \u001b[94m# \u001b[94m# \u001b[94m# \u001b[94m# \u001b[94m# \u001b[94m# \u001b[94m# \u001b[94m# \u001b[94m# \u001b[94m# \u001b[94m# \u001b[94m# \u001b[94m# \u001b[94m# \u001b[94m# \u001b[94m# \u001b[94m# \u001b[94m# \u001b[94m# \u001b[94m# \u001b[91m# \u001b[94m# \n",
      "\u001b[94m# \u001b[91m# \u001b[94m# \u001b[94m# \u001b[94m# \u001b[94m# \u001b[94m# \u001b[94m# \u001b[94m# \u001b[94m# \u001b[94m# \u001b[94m# \u001b[94m# \u001b[94m# \u001b[94m# \u001b[94m# \u001b[94m# \u001b[94m# \u001b[94m# \u001b[94m# \u001b[94m# \u001b[94m# \u001b[94m# \u001b[94m# \u001b[91m# \u001b[94m# \n",
      "\u001b[94m# \u001b[91m# \u001b[94m# \u001b[94m# \u001b[94m# \u001b[94m# \u001b[94m# \u001b[94m# \u001b[94m# \u001b[94m# \u001b[94m# \u001b[94m# \u001b[94m# \u001b[94m# \u001b[94m# \u001b[94m# \u001b[94m# \u001b[94m# \u001b[94m# \u001b[94m# \u001b[94m# \u001b[94m# \u001b[94m# \u001b[94m# \u001b[91m# \u001b[94m# \n",
      "\u001b[94m# \u001b[91m# \u001b[94m# \u001b[94m# \u001b[94m# \u001b[94m# \u001b[94m# \u001b[94m# \u001b[94m# \u001b[94m# \u001b[94m# \u001b[94m# \u001b[94m# \u001b[94m# \u001b[94m# \u001b[94m# \u001b[94m# \u001b[94m# \u001b[94m# \u001b[94m# \u001b[94m# \u001b[94m# \u001b[94m# \u001b[94m# \u001b[91m# \u001b[94m# \n",
      "\u001b[94m# \u001b[91m# \u001b[94m# \u001b[94m# \u001b[94m# \u001b[94m# \u001b[94m# \u001b[94m# \u001b[94m# \u001b[94m# \u001b[94m# \u001b[94m# \u001b[94m# \u001b[94m# \u001b[94m# \u001b[94m# \u001b[94m# \u001b[94m# \u001b[94m# \u001b[94m# \u001b[94m# \u001b[94m# \u001b[94m# \u001b[94m# \u001b[91m# \u001b[94m# \n",
      "\u001b[94m# \u001b[91m# \u001b[94m# \u001b[94m# \u001b[94m# \u001b[94m# \u001b[94m# \u001b[94m# \u001b[94m# \u001b[94m# \u001b[94m# \u001b[94m# \u001b[94m# \u001b[94m# \u001b[94m# \u001b[94m# \u001b[94m# \u001b[94m# \u001b[94m# \u001b[94m# \u001b[94m# \u001b[94m# \u001b[94m# \u001b[94m# \u001b[91m# \u001b[94m# \n",
      "\u001b[94m# \u001b[91m# \u001b[94m# \u001b[94m# \u001b[94m# \u001b[94m# \u001b[94m# \u001b[94m# \u001b[94m# \u001b[94m# \u001b[94m# \u001b[94m# \u001b[94m# \u001b[94m# \u001b[94m# \u001b[94m# \u001b[94m# \u001b[94m# \u001b[94m# \u001b[94m# \u001b[94m# \u001b[94m# \u001b[94m# \u001b[94m# \u001b[91m# \u001b[94m# \n",
      "\u001b[94m# \u001b[91m# \u001b[94m# \u001b[94m# \u001b[94m# \u001b[94m# \u001b[94m# \u001b[94m# \u001b[94m# \u001b[94m# \u001b[94m# \u001b[94m# \u001b[94m# \u001b[94m# \u001b[94m# \u001b[94m# \u001b[94m# \u001b[94m# \u001b[94m# \u001b[94m# \u001b[94m# \u001b[94m# \u001b[94m# \u001b[94m# \u001b[91m# \u001b[94m# \n",
      "\u001b[94m# \u001b[91m# \u001b[94m# \u001b[94m# \u001b[94m# \u001b[94m# \u001b[94m# \u001b[94m# \u001b[94m# \u001b[94m# \u001b[94m# \u001b[94m# \u001b[94m# \u001b[94m# \u001b[94m# \u001b[94m# \u001b[94m# \u001b[94m# \u001b[94m# \u001b[94m# \u001b[94m# \u001b[94m# \u001b[94m# \u001b[94m# \u001b[91m# \u001b[94m# \n",
      "\u001b[94m# \u001b[91m# \u001b[94m# \u001b[94m# \u001b[94m# \u001b[94m# \u001b[94m# \u001b[94m# \u001b[94m# \u001b[94m# \u001b[94m# \u001b[94m# \u001b[94m# \u001b[94m# \u001b[94m# \u001b[94m# \u001b[94m# \u001b[94m# \u001b[94m# \u001b[94m# \u001b[94m# \u001b[94m# \u001b[94m# \u001b[94m# \u001b[91m# \u001b[94m# \n",
      "\u001b[94m# \u001b[91m# \u001b[94m# \u001b[94m# \u001b[94m# \u001b[94m# \u001b[94m# \u001b[94m# \u001b[94m# \u001b[94m# \u001b[94m# \u001b[94m# \u001b[94m# \u001b[94m# \u001b[94m# \u001b[94m# \u001b[94m# \u001b[94m# \u001b[94m# \u001b[94m# \u001b[94m# \u001b[94m# \u001b[94m# \u001b[94m# \u001b[91m# \u001b[94m# \n",
      "\u001b[94m# \u001b[91m# \u001b[94m# \u001b[94m# \u001b[94m# \u001b[94m# \u001b[94m# \u001b[94m# \u001b[94m# \u001b[94m# \u001b[94m# \u001b[94m# \u001b[94m# \u001b[94m# \u001b[94m# \u001b[94m# \u001b[94m# \u001b[94m# \u001b[94m# \u001b[94m# \u001b[94m# \u001b[94m# \u001b[94m# \u001b[94m# \u001b[91m# \u001b[94m# \n",
      "\u001b[94m# \u001b[91m# \u001b[94m# \u001b[94m# \u001b[94m# \u001b[94m# \u001b[94m# \u001b[94m# \u001b[94m# \u001b[94m# \u001b[94m# \u001b[94m# \u001b[94m# \u001b[94m# \u001b[94m# \u001b[94m# \u001b[94m# \u001b[94m# \u001b[94m# \u001b[94m# \u001b[94m# \u001b[94m# \u001b[94m# \u001b[94m# \u001b[91m# \u001b[94m# \n",
      "\u001b[94m# \u001b[91m# \u001b[94m# \u001b[94m# \u001b[94m# \u001b[94m# \u001b[94m# \u001b[94m# \u001b[94m# \u001b[94m# \u001b[94m# \u001b[94m# \u001b[94m# \u001b[94m# \u001b[94m# \u001b[94m# \u001b[94m# \u001b[94m# \u001b[94m# \u001b[94m# \u001b[94m# \u001b[94m# \u001b[94m# \u001b[94m# \u001b[91m# \u001b[94m# \n",
      "\u001b[94m# \u001b[91m# \u001b[94m# \u001b[94m# \u001b[94m# \u001b[94m# \u001b[94m# \u001b[94m# \u001b[94m# \u001b[94m# \u001b[94m# \u001b[94m# \u001b[94m# \u001b[94m# \u001b[94m# \u001b[94m# \u001b[94m# \u001b[94m# \u001b[94m# \u001b[94m# \u001b[94m# \u001b[94m# \u001b[94m# \u001b[94m# \u001b[91m# \u001b[94m# \n",
      "\u001b[94m# \u001b[91m# \u001b[94m# \u001b[94m# \u001b[94m# \u001b[94m# \u001b[94m# \u001b[94m# \u001b[94m# \u001b[94m# \u001b[94m# \u001b[94m# \u001b[94m# \u001b[94m# \u001b[94m# \u001b[94m# \u001b[94m# \u001b[94m# \u001b[94m# \u001b[94m# \u001b[94m# \u001b[94m# \u001b[94m# \u001b[94m# \u001b[91m# \u001b[94m# \n",
      "\u001b[94m# \u001b[91m# \u001b[94m# \u001b[94m# \u001b[94m# \u001b[94m# \u001b[94m# \u001b[94m# \u001b[94m# \u001b[94m# \u001b[94m# \u001b[94m# \u001b[94m# \u001b[94m# \u001b[94m# \u001b[94m# \u001b[94m# \u001b[94m# \u001b[94m# \u001b[94m# \u001b[94m# \u001b[94m# \u001b[94m# \u001b[94m# \u001b[91m# \u001b[94m# \n",
      "\u001b[94m# \u001b[91m# \u001b[94m# \u001b[94m# \u001b[94m# \u001b[94m# \u001b[94m# \u001b[94m# \u001b[94m# \u001b[94m# \u001b[94m# \u001b[94m# \u001b[94m# \u001b[94m# \u001b[94m# \u001b[94m# \u001b[94m# \u001b[94m# \u001b[94m# \u001b[94m# \u001b[94m# \u001b[94m# \u001b[94m# \u001b[94m# \u001b[91m# \u001b[94m# \n",
      "\u001b[94m# \u001b[91m# \u001b[94m# \u001b[94m# \u001b[94m# \u001b[94m# \u001b[94m# \u001b[94m# \u001b[94m# \u001b[94m# \u001b[94m# \u001b[94m# \u001b[94m# \u001b[94m# \u001b[94m# \u001b[94m# \u001b[94m# \u001b[94m# \u001b[94m# \u001b[94m# \u001b[94m# \u001b[94m# \u001b[94m# \u001b[94m# \u001b[91m# \u001b[94m# \n",
      "\u001b[94m# \u001b[91m# \u001b[94m# \u001b[94m# \u001b[94m# \u001b[94m# \u001b[94m# \u001b[94m# \u001b[94m# \u001b[94m# \u001b[94m# \u001b[94m# \u001b[94m# \u001b[94m# \u001b[94m# \u001b[94m# \u001b[94m# \u001b[94m# \u001b[94m# \u001b[94m# \u001b[94m# \u001b[94m# \u001b[94m# \u001b[94m# \u001b[91m# \u001b[94m# \n",
      "\u001b[94m# \u001b[91m# \u001b[94m# \u001b[94m# \u001b[94m# \u001b[94m# \u001b[94m# \u001b[94m# \u001b[94m# \u001b[94m# \u001b[94m# \u001b[94m# \u001b[94m# \u001b[94m# \u001b[94m# \u001b[94m# \u001b[94m# \u001b[94m# \u001b[94m# \u001b[94m# \u001b[94m# \u001b[94m# \u001b[94m# \u001b[94m# \u001b[91m# \u001b[94m# \n",
      "\u001b[94m# \u001b[91m# \u001b[94m# \u001b[94m# \u001b[94m# \u001b[94m# \u001b[94m# \u001b[94m# \u001b[94m# \u001b[94m# \u001b[94m# \u001b[94m# \u001b[94m# \u001b[94m# \u001b[94m# \u001b[94m# \u001b[94m# \u001b[94m# \u001b[94m# \u001b[94m# \u001b[94m# \u001b[94m# \u001b[94m# \u001b[94m# \u001b[91m# \u001b[94m# \n",
      "\u001b[94m# \u001b[91m# \u001b[94m# \u001b[94m# \u001b[94m# \u001b[94m# \u001b[94m# \u001b[94m# \u001b[94m# \u001b[94m# \u001b[94m# \u001b[94m# \u001b[94m# \u001b[94m# \u001b[94m# \u001b[94m# \u001b[94m# \u001b[94m# \u001b[94m# \u001b[94m# \u001b[94m# \u001b[94m# \u001b[94m# \u001b[94m# \u001b[91m# \u001b[94m# \n",
      "\u001b[94m# \u001b[91m# \u001b[94m# \u001b[94m# \u001b[94m# \u001b[94m# \u001b[94m# \u001b[94m# \u001b[94m# \u001b[94m# \u001b[94m# \u001b[94m# \u001b[94m# \u001b[94m# \u001b[94m# \u001b[94m# \u001b[94m# \u001b[94m# \u001b[94m# \u001b[94m# \u001b[94m# \u001b[94m# \u001b[94m# \u001b[94m# \u001b[91m# \u001b[94m# \n"
     ]
    }
   ],
   "source": [
    "simulate(automation('01111111111111111111111110'))"
   ]
  },
  {
   "cell_type": "markdown",
   "metadata": {},
   "source": [
    "## Модел на горски пожар"
   ]
  },
  {
   "cell_type": "code",
   "execution_count": 3,
   "metadata": {},
   "outputs": [],
   "source": [
    "import numpy as np\n",
    "\n",
    "import matplotlib.pyplot as plt\n",
    "import matplotlib.animation as animation"
   ]
  },
  {
   "cell_type": "code",
   "execution_count": 4,
   "metadata": {},
   "outputs": [],
   "source": [
    "# Cell states:\n",
    "EMPTY = 0\n",
    "TREE = 1\n",
    "BURNING = 2"
   ]
  },
  {
   "cell_type": "code",
   "execution_count": 5,
   "metadata": {},
   "outputs": [],
   "source": [
    "def create_forest(size, tree_prob, burning_prob):\n",
    "    forest = np.zeros((size, size))\n",
    "    for cell in np.nditer(forest, op_flags=['readwrite']):\n",
    "        state = np.random.random()\n",
    "        if state < tree_prob:\n",
    "            if state < burning_prob:\n",
    "                cell[...] = BURNING\n",
    "            else:\n",
    "                cell[...] = TREE\n",
    "    return forest"
   ]
  },
  {
   "cell_type": "code",
   "execution_count": 6,
   "metadata": {},
   "outputs": [
    {
     "data": {
      "text/plain": [
       "array([[ 2.,  1.,  1.,  1.,  1.],\n",
       "       [ 2.,  1.,  1.,  2.,  1.],\n",
       "       [ 2.,  1.,  0.,  1.,  0.],\n",
       "       [ 1.,  1.,  1.,  0.,  1.],\n",
       "       [ 1.,  1.,  0.,  1.,  1.]])"
      ]
     },
     "execution_count": 6,
     "metadata": {},
     "output_type": "execute_result"
    }
   ],
   "source": [
    "create_forest(5, 0.8, 0.3)"
   ]
  },
  {
   "cell_type": "code",
   "execution_count": 7,
   "metadata": {},
   "outputs": [],
   "source": [
    "def spread_rule(cell, N, E, S, W, immune_prob):\n",
    "    if cell == TREE:\n",
    "        if not any(x == BURNING for x in [N, E, S, W]):\n",
    "            return TREE\n",
    "        if np.random.random() > immune_prob:\n",
    "            return BURNING\n",
    "    return EMPTY"
   ]
  },
  {
   "cell_type": "code",
   "execution_count": 8,
   "metadata": {},
   "outputs": [
    {
     "data": {
      "text/plain": [
       "array([ 0.,  0.])"
      ]
     },
     "execution_count": 8,
     "metadata": {},
     "output_type": "execute_result"
    }
   ],
   "source": [
    "a = np.zeros((2,2))\n",
    "a[[0][0]]"
   ]
  },
  {
   "cell_type": "code",
   "execution_count": 28,
   "metadata": {},
   "outputs": [],
   "source": [
    "def fire(forest, immune_prob, iterations):\n",
    "    fire_simulations = list()\n",
    "    while iterations > 0:\n",
    "        new_forest = np.zeros(forest.shape)\n",
    "        for i in range(forest.shape[0]):\n",
    "            for j in range(forest.shape[1]):\n",
    "                if i < 1 or i > (forest.shape[0] - 1) or j < 1 or j > (forest.shape[1] - 1):\n",
    "                    continue\n",
    "                try:\n",
    "                    new_forest[i, j] = spread_rule(\n",
    "                        forest[i, j],\n",
    "                        forest[i, j + 1],\n",
    "                        forest[i - 1, j],\n",
    "                        forest[i, j - 1],\n",
    "                        forest[i + 1, j],\n",
    "                        immune_prob)\n",
    "                except IndexError as err:\n",
    "                    continue\n",
    "        fire_simulations.append(new_forest)\n",
    "        iterations -= 1\n",
    "    return fire_simulations"
   ]
  },
  {
   "cell_type": "code",
   "execution_count": 29,
   "metadata": {},
   "outputs": [
    {
     "data": {
      "text/plain": [
       "[array([[ 0.,  0.,  0.,  0.,  0.],\n",
       "        [ 0.,  0.,  0.,  0.,  0.],\n",
       "        [ 0.,  0.,  2.,  2.,  0.],\n",
       "        [ 0.,  0.,  0.,  0.,  0.],\n",
       "        [ 0.,  0.,  0.,  0.,  0.]]), array([[ 0.,  0.,  0.,  0.,  0.],\n",
       "        [ 0.,  0.,  0.,  2.,  0.],\n",
       "        [ 0.,  0.,  2.,  2.,  0.],\n",
       "        [ 0.,  0.,  0.,  0.,  0.],\n",
       "        [ 0.,  0.,  0.,  0.,  0.]])]"
      ]
     },
     "execution_count": 29,
     "metadata": {},
     "output_type": "execute_result"
    }
   ],
   "source": [
    "fire(create_forest(5, 0.8, 0.3), 0.5, 2)"
   ]
  },
  {
   "cell_type": "code",
   "execution_count": 38,
   "metadata": {},
   "outputs": [],
   "source": [
    "def simulate_fire(simulations):\n",
    "    fig = plt.figure()\n",
    "    frames = list()\n",
    "    for i, simulation in enumerate(simulations):\n",
    "        print('Simulation #{}'.format(i))\n",
    "        frame = plt.matshow(simulation)\n",
    "        frames.append([frame])\n",
    "\n",
    "    ani = animation.ArtistAnimation(fig, frames, interval=50, blit=True,\n",
    "                                    repeat_delay=1000)\n",
    "    plt.show()"
   ]
  },
  {
   "cell_type": "code",
   "execution_count": 39,
   "metadata": {},
   "outputs": [
    {
     "name": "stdout",
     "output_type": "stream",
     "text": [
      "Simulation #0\n",
      "Simulation #1\n",
      "Simulation #2\n",
      "Simulation #3\n",
      "Simulation #4\n",
      "Simulation #5\n"
     ]
    },
    {
     "ename": "AttributeError",
     "evalue": "'ArtistAnimation' object has no attribute 'show'",
     "output_type": "error",
     "traceback": [
      "\u001b[0;31m---------------------------------------------------------------------------\u001b[0m",
      "\u001b[0;31mAttributeError\u001b[0m                            Traceback (most recent call last)",
      "\u001b[0;32m<ipython-input-39-9a44a71dc5e7>\u001b[0m in \u001b[0;36m<module>\u001b[0;34m()\u001b[0m\n\u001b[0;32m----> 1\u001b[0;31m \u001b[0msimulate_fire\u001b[0m\u001b[0;34m(\u001b[0m\u001b[0mfire\u001b[0m\u001b[0;34m(\u001b[0m\u001b[0mcreate_forest\u001b[0m\u001b[0;34m(\u001b[0m\u001b[0;36m5\u001b[0m\u001b[0;34m,\u001b[0m \u001b[0;36m0.8\u001b[0m\u001b[0;34m,\u001b[0m \u001b[0;36m0.3\u001b[0m\u001b[0;34m)\u001b[0m\u001b[0;34m,\u001b[0m \u001b[0;36m0.5\u001b[0m\u001b[0;34m,\u001b[0m \u001b[0;36m6\u001b[0m\u001b[0;34m)\u001b[0m\u001b[0;34m)\u001b[0m\u001b[0;34m\u001b[0m\u001b[0m\n\u001b[0m",
      "\u001b[0;32m<ipython-input-38-8f3b1f5a2120>\u001b[0m in \u001b[0;36msimulate_fire\u001b[0;34m(simulations)\u001b[0m\n\u001b[1;32m      9\u001b[0m     ani = animation.ArtistAnimation(fig, frames, interval=50, blit=True,\n\u001b[1;32m     10\u001b[0m                                     repeat_delay=1000)\n\u001b[0;32m---> 11\u001b[0;31m     \u001b[0mani\u001b[0m\u001b[0;34m.\u001b[0m\u001b[0mshow\u001b[0m\u001b[0;34m(\u001b[0m\u001b[0;34m)\u001b[0m\u001b[0;34m\u001b[0m\u001b[0m\n\u001b[0m",
      "\u001b[0;31mAttributeError\u001b[0m: 'ArtistAnimation' object has no attribute 'show'"
     ]
    }
   ],
   "source": [
    "simulate_fire(fire(create_forest(5, 0.8, 0.3), 0.5, 6))"
   ]
  },
  {
   "cell_type": "code",
   "execution_count": 44,
   "metadata": {},
   "outputs": [
    {
     "data": {
      "image/png": "[encoded data removed]",
      "text/plain": [
       "<matplotlib.figure.Figure at 0x7f5aa037b390>"
      ]
     },
     "metadata": {},
     "output_type": "display_data"
    },
    {
     "data": {
      "text/plain": [
       "<matplotlib.figure.Figure at 0x7f5aa04d9e80>"
      ]
     },
     "metadata": {},
     "output_type": "display_data"
    },
    {
     "data": {
      "text/plain": [
       "<matplotlib.figure.Figure at 0x7f5aa052bc18>"
      ]
     },
     "metadata": {},
     "output_type": "display_data"
    },
    {
     "data": {
      "text/plain": [
       "<matplotlib.figure.Figure at 0x7f5aa0569128>"
      ]
     },
     "metadata": {},
     "output_type": "display_data"
    },
    {
     "data": {
      "text/plain": [
       "<matplotlib.figure.Figure at 0x7f5aa05159e8>"
      ]
     },
     "metadata": {},
     "output_type": "display_data"
    },
    {
     "data": {
      "text/plain": [
       "<matplotlib.figure.Figure at 0x7f5aa04d5710>"
      ]
     },
     "metadata": {},
     "output_type": "display_data"
    },
    {
     "data": {
      "text/plain": [
       "<matplotlib.figure.Figure at 0x7f5aa03b3e48>"
      ]
     },
     "metadata": {},
     "output_type": "display_data"
    },
    {
     "data": {
      "text/plain": [
       "<matplotlib.figure.Figure at 0x7f5aa05a72e8>"
      ]
     },
     "metadata": {},
     "output_type": "display_data"
    },
    {
     "data": {
      "text/plain": [
       "<matplotlib.figure.Figure at 0x7f5aa05a7a58>"
      ]
     },
     "metadata": {},
     "output_type": "display_data"
    },
    {
     "data": {
      "text/plain": [
       "<matplotlib.figure.Figure at 0x7f5aa053bf28>"
      ]
     },
     "metadata": {},
     "output_type": "display_data"
    },
    {
     "data": {
      "text/plain": [
       "<matplotlib.figure.Figure at 0x7f5aa053b898>"
      ]
     },
     "metadata": {},
     "output_type": "display_data"
    },
    {
     "data": {
      "text/plain": [
       "<matplotlib.figure.Figure at 0x7f5aa0524470>"
      ]
     },
     "metadata": {},
     "output_type": "display_data"
    },
    {
     "data": {
      "text/plain": [
       "<matplotlib.figure.Figure at 0x7f5aa039d2b0>"
      ]
     },
     "metadata": {},
     "output_type": "display_data"
    },
    {
     "data": {
      "text/plain": [
       "<matplotlib.figure.Figure at 0x7f5aa05ba518>"
      ]
     },
     "metadata": {},
     "output_type": "display_data"
    },
    {
     "data": {
      "text/plain": [
       "<matplotlib.figure.Figure at 0x7f5aa03abd30>"
      ]
     },
     "metadata": {},
     "output_type": "display_data"
    },
    {
     "data": {
      "text/plain": [
       "<matplotlib.figure.Figure at 0x7f5aa058b978>"
      ]
     },
     "metadata": {},
     "output_type": "display_data"
    },
    {
     "data": {
      "text/plain": [
       "<matplotlib.figure.Figure at 0x7f5aa089d780>"
      ]
     },
     "metadata": {},
     "output_type": "display_data"
    },
    {
     "data": {
      "text/plain": [
       "<matplotlib.figure.Figure at 0x7f5aa07c8940>"
      ]
     },
     "metadata": {},
     "output_type": "display_data"
    },
    {
     "data": {
      "text/plain": [
       "<matplotlib.figure.Figure at 0x7f5aa07c8668>"
      ]
     },
     "metadata": {},
     "output_type": "display_data"
    },
    {
     "data": {
      "text/plain": [
       "<matplotlib.figure.Figure at 0x7f5aa08f8358>"
      ]
     },
     "metadata": {},
     "output_type": "display_data"
    }
   ],
   "source": [
    "def fire2(forest, immune_prob=0.5):\n",
    "    new_forest = np.zeros(forest.shape)\n",
    "    for i in range(forest.shape[0]):\n",
    "        for j in range(forest.shape[1]):\n",
    "            if i < 1 or i > (forest.shape[0] - 1) or j < 1 or j > (forest.shape[1] - 1):\n",
    "                continue\n",
    "            try:\n",
    "                new_forest[i, j] = spread_rule(\n",
    "                    forest[i, j],\n",
    "                    forest[i, j + 1],\n",
    "                    forest[i - 1, j],\n",
    "                    forest[i, j - 1],\n",
    "                    forest[i + 1, j],\n",
    "                    immune_prob)\n",
    "            except IndexError as err:\n",
    "                continue\n",
    "    return new_forest\n",
    "\n",
    "im = None\n",
    "forest = create_forest(5, 0.8, 0.3)\n",
    "for _ in range(20):    # draw 20 frames\n",
    "    if not im:\n",
    "        # for the first frame generate the plot...\n",
    "        im = plt.imshow(forest, cmap = 'hot', interpolation='none',vmin=0,vmax=2)    \n",
    "        plt.colorbar(im, orientation='horizontal')\n",
    "    else:\n",
    "        # ... for subsequent times only update the data\n",
    "        forest = fire2(forest)\n",
    "        im.set_data(forest)\n",
    "    plt.draw()\n",
    "    plt.pause(0.2)"
   ]
  },
  {
   "cell_type": "code",
   "execution_count": null,
   "metadata": {},
   "outputs": [],
   "source": []
  }
 ],
 "metadata": {
  "kernelspec": {
   "display_name": "Python 3",
   "language": "python",
   "name": "python3"
  },
  "language_info": {
   "codemirror_mode": {
    "name": "ipython",
    "version": 3
   },
   "file_extension": ".py",
   "mimetype": "text/x-python",
   "name": "python",
   "nbconvert_exporter": "python",
   "pygments_lexer": "ipython3",
   "version": "3.5.2"
  }
 },
 "nbformat": 4,
 "nbformat_minor": 2
}
